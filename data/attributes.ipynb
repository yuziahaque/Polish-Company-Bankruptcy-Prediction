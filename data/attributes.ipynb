{
 "cells": [
  {
   "cell_type": "code",
   "execution_count": null,
   "metadata": {},
   "outputs": [],
   "source": [
    "file_names = ['data/1year_fix.csv', 'data/2year_fix.csv', 'data/3year_fix.csv', 'data/4year_fix.csv', 'data/5year_fix.csv']\n",
    "dataframes = []\n",
    "for file_name in file_names:\n",
    "    df = pd.read_csv(file_name)\n",
    "    dataframes.append(df)\n",
    "merged_df = pd.concat(dataframes)\n",
    "merged_df.to_csv('merged_file.csv', index=False)"
   ]
  }
 ],
 "metadata": {
  "language_info": {
   "name": "python"
  },
  "orig_nbformat": 4
 },
 "nbformat": 4,
 "nbformat_minor": 2
}
